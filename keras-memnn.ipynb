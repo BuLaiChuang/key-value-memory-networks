{
 "cells": [
  {
   "cell_type": "code",
   "execution_count": 1,
   "metadata": {},
   "outputs": [
    {
     "name": "stderr",
     "output_type": "stream",
     "text": [
      "Using TensorFlow backend.\n"
     ]
    }
   ],
   "source": [
    "from __future__ import print_function\n",
    "\n",
    "from keras import backend as K\n",
    "from keras.models import Sequential, Model, load_model\n",
    "from keras.layers.embeddings import Embedding\n",
    "from keras.layers import Input, Activation, Dense, Lambda, Permute, Dropout, add, dot, concatenate\n",
    "from keras.layers import LSTM\n",
    "from keras.utils.data_utils import get_file\n",
    "from keras.preprocessing.sequence import pad_sequences\n",
    "from functools import reduce\n",
    "import tarfile\n",
    "import numpy as np\n",
    "import re\n",
    "import tensorflow as tf\n",
    "from nltk.tokenize import word_tokenize\n",
    "\n",
    "from itertools import chain\n",
    "from process_data import load_entities, save_pickle, load_pickle, load_kv_pairs, lower_list, vectorize, vectorize_kv, get_relative_kv"
   ]
  },
  {
   "cell_type": "code",
   "execution_count": null,
   "metadata": {},
   "outputs": [],
   "source": [
    "is_babi = False\n",
    "if is_babi:\n",
    "    train_data = load_task('./data/tasks_1-20_v1-2/en/qa5_three-arg-relations_train.txt', is_babi)\n",
    "    test_data = load_task('./data/tasks_1-20_v1-2/en/qa5_three-arg-relations_test.txt', is_babi)\n",
    "else:\n",
    "    # N = 49900\n",
    "    N = 50000000\n",
    "    mem_maxlen = 100 # 1つのエピソードに関連しているKVの数に対する制限\n",
    "    train_data = load_pickle('mov_task1_qa_pipe_train.pickle')[:N]\n",
    "    test_data = load_pickle('mov_task1_qa_pipe_test.pickle')[:N]\n",
    "    kv_pairs = load_pickle('mov_kv_pairs.pickle')\n",
    "    train_kv_indices = load_pickle('mov_train_kv_indices.pickle')[:N]\n",
    "    test_kv_indices = load_pickle('mov_test_kv_indices.pickle')[:N]\n",
    "    train_k, train_v = get_relative_kv(train_kv_indices, kv_pairs)\n",
    "    test_k, test_v = get_relative_kv(test_kv_indices, kv_pairs)\n",
    "    train_k = np.array([list(chain(*x))[:mem_maxlen] for x in train_k])\n",
    "    train_v = np.array([list(chain(*x))[:mem_maxlen] for x in train_v])\n",
    "    test_k = np.array([list(chain(*x))[:mem_maxlen] for x in test_k])\n",
    "    test_v = np.array([list(chain(*x))[:mem_maxlen] for x in test_v])\n",
    "    entities = load_pickle('mov_entities.pickle')\n",
    "    entity_size = len(entities)\n",
    "\n",
    "vocab = set(entities +  ['directed_by', 'written_by', 'starred_actors', 'release_year', 'has_genre', 'has_tags', 'has_plot'] )\n",
    "for story, q, answer in train_data + test_data:\n",
    "    vocab |= set(story + q + answer)\n",
    "vocab = sorted(vocab)\n",
    "\n",
    "# Reserve 0 for masking via pad_sequences\n",
    "vocab_size = len(vocab) #+ 1\n",
    "story_maxlen = max(map(len, (x for x, _, _ in train_data + test_data)))\n",
    "query_maxlen = max(map(len, (x for _, x, _ in train_data + test_data)))\n",
    "\n",
    "print('-')\n",
    "print('Vocab size:', vocab_size, 'unique words')\n",
    "print('Story max length:', story_maxlen, 'words')\n",
    "print('Query max length:', query_maxlen, 'words')\n",
    "print('Number of training data:', len(train_data))\n",
    "print('Number of test data:', len(test_data))\n",
    "print('-')\n",
    "print('Here\\'s what a \"data\" tuple looks like (input, query, answer):')\n",
    "print(train_data[0])\n",
    "print('-')\n",
    "print('Vectorizing the word sequences...')\n",
    "\n",
    "print('Number of entities', len(entities))\n",
    "w2i = dict((c, i) for i, c in enumerate(vocab))\n",
    "inputs_train, queries_train, answers_train = vectorize(train_data,\n",
    "                                                               w2i,\n",
    "                                                               story_maxlen,\n",
    "                                                               query_maxlen)\n",
    "inputs_test, queries_test, answers_test = vectorize(test_data,\n",
    "                                                            w2i,\n",
    "                                                            story_maxlen,\n",
    "                                                            query_maxlen)\n",
    "\n",
    "print('-')\n",
    "print('inputs: integer tensor of shape (samples, max_length)')\n",
    "print('inputs_train shape:', inputs_train.shape)\n",
    "print('inputs_test shape:', inputs_test.shape)\n",
    "print('-')\n",
    "print('queries: integer tensor of shape (samples, max_length)')\n",
    "print('queries_train shape:', queries_train.shape)\n",
    "print('queries_test shape:', queries_test.shape)\n",
    "print('-')\n",
    "print('answers: binary (1 or 0) tensor of shape (samples, vocab_size)')\n",
    "print('answers_train shape:', answers_train.shape)\n",
    "print('answers_test shape:', answers_test.shape)"
   ]
  },
  {
   "cell_type": "code",
   "execution_count": null,
   "metadata": {},
   "outputs": [],
   "source": [
    "for k in train_k[:2]:\n",
    "    print('===========')\n",
    "    print(len(k), k)"
   ]
  },
  {
   "cell_type": "code",
   "execution_count": null,
   "metadata": {},
   "outputs": [],
   "source": [
    "# e2i = dict((e, i) for i, e in enumerate(entities))\n",
    "max_memory_num = 100\n",
    "vec_train_k = vectorize_kv(train_k, mem_maxlen, w2i)\n",
    "vec_train_v = vectorize_kv(train_v, mem_maxlen, w2i)\n",
    "print('vec_k', vec_train_k.shape)\n",
    "print('vec_v', vec_train_v.shape)"
   ]
  },
  {
   "cell_type": "code",
   "execution_count": null,
   "metadata": {},
   "outputs": [],
   "source": [
    "print(train_k[0],'\\n', vec_train_k[0])\n",
    "print('candidate answer num:', len(answers_train[0]))\n",
    "print('question[0]', queries_train[0])"
   ]
  },
  {
   "cell_type": "code",
   "execution_count": null,
   "metadata": {},
   "outputs": [],
   "source": [
    "def MemNNKV(mem_size, query_maxlen, vocab_size, embd_size):\n",
    "    print('mem_size:', mem_size)\n",
    "    print('q_max', query_maxlen)\n",
    "    print('embd_size', embd_size)\n",
    "    print('vocab_size', vocab_size)\n",
    "#     print('entity_size', entity_size)\n",
    "    print('-----------')\n",
    "\n",
    "    # placeholders\n",
    "    key = Input((mem_size,), name='Key_Input')\n",
    "    val = Input((mem_size,), name='Val_Input')\n",
    "    question = Input((query_maxlen,), name='Question_Input')\n",
    "\n",
    "    # encoders\n",
    "    # memory encoders\n",
    "    # output: (None, mem_size, embd_size)\n",
    "#     shared_embd_A = Embedding(input_dim=vocab_size, output_dim=embd_size, input_length=mem_size)\n",
    "    shared_embd_A = Embedding(input_dim=vocab_size, output_dim=embd_size)\n",
    "    key_encoder = Sequential(name='Key_Encoder')\n",
    "    key_encoder.add(shared_embd_A)\n",
    "#     key_encoder.add(Dropout(0.3))\n",
    "    val_encoder = Sequential(name='Val_Encoder')\n",
    "    val_encoder.add(shared_embd_A)\n",
    "#     val_encoder.add(Dropout(0.3))\n",
    "\n",
    "    # embed the question into a sequence of vectors\n",
    "    # output: (None, query_maxlen, embd_size)\n",
    "    question_encoder = Sequential(name='Question_Encoder')\n",
    "#     question_encoder.add(Embedding(input_dim=vocab_size, output_dim=embd_size, input_length=query_maxlen))\n",
    "    question_encoder.add(shared_embd_A)\n",
    "#     question_encoder.add(Dropout(0.3))\n",
    "\n",
    "    # encode input sequence and questions (which are indices)\n",
    "    # to sequences of dense vectors\n",
    "    key_encoded = key_encoder(key) # (None, mem_size, embd_size)\n",
    "    val_encoded = val_encoder(val) # (None, mem_size, embd_size)\n",
    "    question_encoded = question_encoder(question) # (None, query_max_len, embd_size)\n",
    "    \n",
    "    ph = dot([question_encoded, key_encoded], axes=(2, 2)) # (None, query_max_len, mem_size)\n",
    "    ph = Permute((2, 1))(ph) # (None, mem_size, query_max_len)\n",
    "    o = dot([ph, val_encoded], axes=(1, 1)) # (None, query_max_len, embd_size)\n",
    "    R = Dense(embd_size, input_shape=(embd_size,), name='R_Dense')     \n",
    "\n",
    "    q2 = R(add([question_encoded,  o])) # (None, query_max_len, embd_size)\n",
    "    answer = Dense(vocab_size, name='last_Dense')(q2)\n",
    "    answer = Lambda(lambda x: K.sum(x, axis=1), output_shape=(vocab_size, )) (answer)\n",
    "    print('answer.shape', answer.shape)\n",
    "    preds = Activation('softmax')(answer)\n",
    "    \n",
    "    # build the final model\n",
    "    model = Model([key, val, question], preds)\n",
    "    model.compile(optimizer='rmsprop', loss='categorical_crossentropy', metrics=['accuracy'])\n",
    "    return model\n",
    "\n",
    "print('vec_test_k.shape', vec_train_k.shape)\n",
    "print('vec_test_v.shape', vec_train_v.shape)\n",
    "print('queries_train.shape', queries_train.shape)\n",
    "print('ans', answers_train.shape)"
   ]
  },
  {
   "cell_type": "code",
   "execution_count": null,
   "metadata": {},
   "outputs": [],
   "source": [
    "embd_size = 32\n",
    "memnn_kv = MemNNKV(mem_maxlen, query_maxlen, vocab_size, embd_size)\n",
    "print(memnn_kv.summary())\n",
    "memnn_kv.fit([vec_train_k, vec_train_v, queries_train], answers_train,\n",
    "          batch_size=32,\n",
    "          epochs=10)#,\n",
    "#           validation_data=([vec_test_kv, vec_test_kv, queries_test, answers_test], answers_test))"
   ]
  },
  {
   "cell_type": "code",
   "execution_count": null,
   "metadata": {
    "collapsed": true
   },
   "outputs": [],
   "source": [
    "memnn_kv.save('model_memnn_kv.h5')"
   ]
  },
  {
   "cell_type": "code",
   "execution_count": null,
   "metadata": {
    "collapsed": true
   },
   "outputs": [],
   "source": [
    "model = load_model('model_memnn_kv.h5')\n",
    "score = model.evaluate([vec_test_kv, vec_test_kv, queries_test, answers_test], answers_test, verbose=1)\n",
    "print('Test loss:', score[0])\n",
    "print('Test accuracy:', score[1])"
   ]
  },
  {
   "cell_type": "code",
   "execution_count": null,
   "metadata": {
    "collapsed": true
   },
   "outputs": [],
   "source": []
  },
  {
   "cell_type": "code",
   "execution_count": null,
   "metadata": {
    "collapsed": true
   },
   "outputs": [],
   "source": [
    "vocab = set()\n",
    "for story, q, answer in (train_data + test_data):#[:100]:\n",
    "#     print(story + q + answer)\n",
    "    vocab |= set(story + q + answer)\n",
    "vocab = sorted(vocab)\n",
    "print(len(list(set(vocab))))\n",
    "print(vocab[:10])"
   ]
  },
  {
   "cell_type": "code",
   "execution_count": null,
   "metadata": {
    "collapsed": true
   },
   "outputs": [],
   "source": [
    "vocab[:100]"
   ]
  },
  {
   "cell_type": "code",
   "execution_count": null,
   "metadata": {
    "collapsed": true
   },
   "outputs": [],
   "source": [
    "def MemNN(story_maxlen, query_maxlen, vocab_size, embd_size):\n",
    "    # placeholders\n",
    "    input_sequence = Input((story_maxlen,))\n",
    "    question = Input((query_maxlen,))\n",
    "\n",
    "    # encoders\n",
    "    # embed the input sequence into a sequence of vectors\n",
    "    input_encoder_m = Sequential()\n",
    "    input_encoder_m.add(Embedding(input_dim=vocab_size,\n",
    "                                  output_dim=embd_size))\n",
    "    input_encoder_m.add(Dropout(0.3))\n",
    "    # output: (samples, story_maxlen, embedding_dim)\n",
    "\n",
    "    # embed the input into a sequence of vectors of size query_maxlen\n",
    "    input_encoder_c = Sequential()\n",
    "    input_encoder_c.add(Embedding(input_dim=vocab_size,\n",
    "                                  output_dim=query_maxlen))\n",
    "    input_encoder_c.add(Dropout(0.3))\n",
    "    # output: (samples, story_maxlen, query_maxlen)\n",
    "\n",
    "    # embed the question into a sequence of vectors\n",
    "    question_encoder = Sequential()\n",
    "    question_encoder.add(Embedding(input_dim=vocab_size,\n",
    "                                   output_dim=embd_size,\n",
    "                                   input_length=query_maxlen))\n",
    "    question_encoder.add(Dropout(0.3))\n",
    "    # output: (samples, query_maxlen, embedding_dim)\n",
    "\n",
    "    # encode input sequence and questions (which are indices)\n",
    "    # to sequences of dense vectors\n",
    "    input_encoded_m = input_encoder_m(input_sequence)\n",
    "    input_encoded_c = input_encoder_c(input_sequence)\n",
    "    question_encoded = question_encoder(question) # (None, query_max_len, embd_size)\n",
    "\n",
    "    # compute a 'match' between the first input vector sequence\n",
    "    # and the question vector sequence\n",
    "    # shape: `(samples, story_maxlen, query_maxlen)`\n",
    "    match = dot([input_encoded_m, question_encoded], axes=(2, 2))\n",
    "    match = Activation('softmax')(match) # (None, max_storylen, query_maxlen)\n",
    "\n",
    "    # add the match matrix with the second input vector sequence\n",
    "    response = add([match, input_encoded_c])  # (samples, story_maxlen, query_maxlen)\n",
    "    response = Permute((2, 1))(response)  # (samples, query_maxlen, story_maxlen)\n",
    "    print('---')\n",
    "    print('match',match.shape)\n",
    "    print('input_c', input_encoded_c.shape)\n",
    "    print('response', response.shape)\n",
    "    # concatenate the match matrix with the question vector sequence\n",
    "#     answer = concatenate([response, question_encoded])\n",
    "    answer = response\n",
    "    print('---')\n",
    "    print('resp.shape', response.shape)\n",
    "    print('q_enc.shape', question_encoded.shape)\n",
    "    print('answer.shape', answer.shape)\n",
    "\n",
    "    # the original paper uses a matrix multiplication for this reduction step.\n",
    "    # we choose to use a RNN instead.\n",
    "    answer = LSTM(32)(answer)  # (samples, 32)\n",
    "\n",
    "    # one regularization layer -- more would probably be needed.\n",
    "#     answer = Dropout(0.3)(answer)\n",
    "    answer = Dense(vocab_size)(answer)  # (samples, vocab_size)\n",
    "    # we output a probability distribution over the vocabulary\n",
    "    answer = Activation('softmax')(answer)\n",
    "\n",
    "    # build the final model\n",
    "    model = Model([input_sequence, question], answer)\n",
    "    model.compile(optimizer='rmsprop', loss='categorical_crossentropy',\n",
    "                  metrics=['accuracy'])\n",
    "    return model\n",
    "\n",
    "embd_size = 64\n",
    "model = MemNN(story_maxlen, query_maxlen, vocab_size, embd_size)\n",
    "print(model.summary())\n",
    "\n",
    "# train\n",
    "model.fit([inputs_train, queries_train], answers_train,\n",
    "          batch_size=32,\n",
    "          epochs=3,\n",
    "          validation_data=([inputs_test, queries_test], answers_test))"
   ]
  },
  {
   "cell_type": "code",
   "execution_count": null,
   "metadata": {
    "collapsed": true
   },
   "outputs": [],
   "source": [
    "model = Sequential()\n",
    "model.add(Embedding(1000, 64, input_length=10))\n",
    "# the model will take as input an integer matrix of size (batch, input_length).\n",
    "# the largest integer (i.e. word index) in the input should be no larger than 999 (vocabulary size).\n",
    "# now model.output_shape == (None, 10, 64), where None is the batch dimension.\n",
    "\n",
    "input_array = np.random.randint(1000, size=(32, 10))\n",
    "\n",
    "model.compile('rmsprop', 'mse')\n",
    "print(model.shape)\n",
    "output_array = model.predict(input_array)"
   ]
  },
  {
   "cell_type": "code",
   "execution_count": null,
   "metadata": {
    "collapsed": true
   },
   "outputs": [],
   "source": []
  }
 ],
 "metadata": {
  "kernelspec": {
   "display_name": "Python 3",
   "language": "python",
   "name": "python3"
  },
  "language_info": {
   "codemirror_mode": {
    "name": "ipython",
    "version": 3
   },
   "file_extension": ".py",
   "mimetype": "text/x-python",
   "name": "python",
   "nbconvert_exporter": "python",
   "pygments_lexer": "ipython3",
   "version": "3.6.1"
  }
 },
 "nbformat": 4,
 "nbformat_minor": 2
}
