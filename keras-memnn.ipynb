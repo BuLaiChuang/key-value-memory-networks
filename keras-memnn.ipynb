{
 "cells": [
  {
   "cell_type": "code",
   "execution_count": 1,
   "metadata": {},
   "outputs": [
    {
     "name": "stderr",
     "output_type": "stream",
     "text": [
      "Using TensorFlow backend.\n"
     ]
    }
   ],
   "source": [
    "from __future__ import print_function\n",
    "\n",
    "from keras import backend as K\n",
    "from keras.models import Sequential, Model, load_model\n",
    "from keras.layers.embeddings import Embedding\n",
    "from keras.layers import Input, Activation, Dense, Lambda, Permute, Dropout, add, dot, concatenate\n",
    "from keras.layers import LSTM\n",
    "from keras.utils.data_utils import get_file\n",
    "from keras.preprocessing.sequence import pad_sequences\n",
    "from functools import reduce\n",
    "import tarfile\n",
    "import numpy as np\n",
    "import re\n",
    "import tensorflow as tf\n",
    "from nltk.tokenize import word_tokenize\n",
    "\n",
    "from itertools import chain\n",
    "from process_data import load_entities, save_pickle, load_pickle, load_kv_pairs, lower_list, vectorize, vectorize_kv, get_relative_kv"
   ]
  },
  {
   "cell_type": "code",
   "execution_count": 2,
   "metadata": {},
   "outputs": [
    {
     "name": "stdout",
     "output_type": "stream",
     "text": [
      "load mov_task1_qa_pipe_train.pickle\n",
      "load mov_task1_qa_pipe_test.pickle\n",
      "load mov_kv_pairs.pickle\n",
      "load mov_train_kv_indices.pickle\n",
      "load mov_test_kv_indices.pickle\n",
      "get relative key-values...\n",
      "get relative key-values...\n",
      "load mov_entities.pickle\n",
      "-\n",
      "Vocab size: 73429 unique words\n",
      "Story max length: 0 words\n",
      "Query max length: 21 words\n",
      "Number of training data: 96185\n",
      "Number of test data: 9952\n",
      "-\n",
      "Here's what a \"data\" tuple looks like (input, query, answer):\n",
      "([], ['what', 'movies', 'are', 'about', 'ginger rogers'], ['the barkleys of broadway', 'kitty foyle', 'top hat'])\n",
      "-\n",
      "Vectorizing the word sequences...\n",
      "Number of entities 72008\n",
      "-\n",
      "inputs: integer tensor of shape (samples, max_length)\n",
      "inputs_train shape: (96185, 0)\n",
      "inputs_test shape: (9952, 0)\n",
      "-\n",
      "queries: integer tensor of shape (samples, max_length)\n",
      "queries_train shape: (96185, 21)\n",
      "queries_test shape: (9952, 21)\n",
      "-\n",
      "answers: binary (1 or 0) tensor of shape (samples, vocab_size)\n",
      "answers_train shape: (96185, 73429)\n",
      "answers_test shape: (9952, 73429)\n"
     ]
    }
   ],
   "source": [
    "is_babi = False\n",
    "if is_babi:\n",
    "    train_data = load_task('./data/tasks_1-20_v1-2/en/qa5_three-arg-relations_train.txt', is_babi)\n",
    "    test_data = load_task('./data/tasks_1-20_v1-2/en/qa5_three-arg-relations_test.txt', is_babi)\n",
    "else:\n",
    "    # N = 49900\n",
    "    N = 50000000\n",
    "    mem_maxlen = 100 # 1つのエピソードに関連しているKVの数に対する制限\n",
    "    train_data = load_pickle('mov_task1_qa_pipe_train.pickle')[:N]\n",
    "    test_data = load_pickle('mov_task1_qa_pipe_test.pickle')[:N]\n",
    "    kv_pairs = load_pickle('mov_kv_pairs.pickle')\n",
    "    train_kv_indices = load_pickle('mov_train_kv_indices.pickle')[:N]\n",
    "    test_kv_indices = load_pickle('mov_test_kv_indices.pickle')[:N]\n",
    "    train_k, train_v = get_relative_kv(train_kv_indices, kv_pairs)\n",
    "    test_k, test_v = get_relative_kv(test_kv_indices, kv_pairs)\n",
    "    train_k = np.array([list(chain(*x))[:mem_maxlen] for x in train_k])\n",
    "    train_v = np.array([list(chain(*x))[:mem_maxlen] for x in train_v])\n",
    "    test_k = np.array([list(chain(*x))[:mem_maxlen] for x in test_k])\n",
    "    test_v = np.array([list(chain(*x))[:mem_maxlen] for x in test_v])\n",
    "    entities = load_pickle('mov_entities.pickle')\n",
    "    entity_size = len(entities)\n",
    "\n",
    "vocab = set(entities +  ['directed_by', 'written_by', 'starred_actors', 'release_year', 'has_genre', 'has_tags', 'has_plot'] )\n",
    "for story, q, answer in train_data + test_data:\n",
    "    vocab |= set(story + q + answer)\n",
    "vocab = sorted(vocab)\n",
    "\n",
    "# Reserve 0 for masking via pad_sequences\n",
    "vocab_size = len(vocab) #+ 1\n",
    "story_maxlen = max(map(len, (x for x, _, _ in train_data + test_data)))\n",
    "query_maxlen = max(map(len, (x for _, x, _ in train_data + test_data)))\n",
    "\n",
    "print('-')\n",
    "print('Vocab size:', vocab_size, 'unique words')\n",
    "print('Story max length:', story_maxlen, 'words')\n",
    "print('Query max length:', query_maxlen, 'words')\n",
    "print('Number of training data:', len(train_data))\n",
    "print('Number of test data:', len(test_data))\n",
    "print('-')\n",
    "print('Here\\'s what a \"data\" tuple looks like (input, query, answer):')\n",
    "print(train_data[0])\n",
    "print('-')\n",
    "print('Vectorizing the word sequences...')\n",
    "\n",
    "print('Number of entities', len(entities))\n",
    "w2i = dict((c, i) for i, c in enumerate(vocab))\n",
    "inputs_train, queries_train, answers_train = vectorize(train_data,\n",
    "                                                               w2i,\n",
    "                                                               story_maxlen,\n",
    "                                                               query_maxlen)\n",
    "inputs_test, queries_test, answers_test = vectorize(test_data,\n",
    "                                                            w2i,\n",
    "                                                            story_maxlen,\n",
    "                                                            query_maxlen)\n",
    "\n",
    "print('-')\n",
    "print('inputs: integer tensor of shape (samples, max_length)')\n",
    "print('inputs_train shape:', inputs_train.shape)\n",
    "print('inputs_test shape:', inputs_test.shape)\n",
    "print('-')\n",
    "print('queries: integer tensor of shape (samples, max_length)')\n",
    "print('queries_train shape:', queries_train.shape)\n",
    "print('queries_test shape:', queries_test.shape)\n",
    "print('-')\n",
    "print('answers: binary (1 or 0) tensor of shape (samples, vocab_size)')\n",
    "print('answers_train shape:', answers_train.shape)\n",
    "print('answers_test shape:', answers_test.shape)"
   ]
  },
  {
   "cell_type": "code",
   "execution_count": 3,
   "metadata": {},
   "outputs": [
    {
     "name": "stdout",
     "output_type": "stream",
     "text": [
      "===========\n",
      "100 ['primrose path', 'starred_actors', 'ginger rogers', '!starred_actors', 'romance in manhattan', 'starred_actors', 'ginger rogers', '!starred_actors', 'ginger and fred', 'has_plot', 'amelia', 'and', 'pippo', 'are', 'reunited', 'after', 'several', 'decades', 'to', 'perform', 'their', 'old', 'music-hall', 'act', '(', 'imitating', 'fred astaire', 'and', 'ginger rogers', ')', 'on', 'a', 'tv', 'variety show', '.', 'it', \"'s\", 'both', 'a', 'touchingly', 'nostalgic', '...', '!has_plot', 'the major and the minor', 'starred_actors', 'ginger rogers', '!starred_actors', 'once upon a honeymoon', 'starred_actors', 'ginger rogers', '!starred_actors', \"we're not married!\", 'starred_actors', 'ginger rogers', '!starred_actors', 'tender comrade', 'starred_actors', 'ginger rogers', '!starred_actors', 'kitty foyle', 'starred_actors', 'ginger rogers', '!starred_actors', 'kitty foyle', 'has_tags', 'ginger rogers', '!has_tags', 'flying down to rio', 'starred_actors', 'ginger rogers', '!starred_actors', 'bachelor mother', 'starred_actors', 'ginger rogers', '!starred_actors', 'storm warning', 'starred_actors', 'ginger rogers', '!starred_actors', 'the barkleys of broadway', 'starred_actors', 'ginger rogers', '!starred_actors', 'the barkleys of broadway', 'has_tags', 'ginger rogers', '!has_tags', 'monkey business', 'starred_actors', 'ginger rogers', '!starred_actors', 'star of midnight', 'starred_actors', 'ginger rogers', '!starred_actors', 'star of midnight', 'has_plot', 'a', 'dancer', 'disappears']\n",
      "===========\n",
      "100 ['strangeland', 'has_plot', 'the', 'place', 'is', 'helverton', 'colorado', 'a', 'town', 'of', 'about', '350,000', 'people', '.', '15-year-old', 'genevieve', 'gage', 'and', 'her', 'best', 'friend', 'tiana', 'moore', 'are', 'typical', 'teenagers', 'who', 'spend', 'a', 'lot', 'of', 'time', 'surfing', 'the', '...', '!has_plot', 'the prize winner of defiance, ohio', 'has_plot', 'in', 'order', 'to', 'support', 'her', 'ten', 'children', 'evelyn', 'ryan', '(', 'moore', ')', 'enters', 'a', 'commercial', 'jingle-writing', 'contest', '.', 'based on a true story', '.', '!has_plot', 'a good woman', 'has_plot', 'while', 'retaining', 'her', 'secret', 'identity', 'the', 'illustrious', 'mrs.', 'erlynne', '(', 'hunt', ')', 'saves', 'lady', 'windemere', '(', 'johansson', ')', 'from', 'making', 'a', 'grand', 'social', 'faux-pas', 'with', 'the', 'scoundrelly', 'lord', 'darlington', '(', 'moore', ')', '.', '!has_plot', 'the twonky', 'written_by', 'moore', '!written_by', 'the d.i.']\n"
     ]
    }
   ],
   "source": [
    "for k in train_k[:2]:\n",
    "    print('===========')\n",
    "    print(len(k), k)"
   ]
  },
  {
   "cell_type": "code",
   "execution_count": 4,
   "metadata": {},
   "outputs": [
    {
     "name": "stdout",
     "output_type": "stream",
     "text": [
      "vec_k (96185, 100)\n",
      "vec_v (96185, 100)\n"
     ]
    }
   ],
   "source": [
    "# e2i = dict((e, i) for i, e in enumerate(entities))\n",
    "max_memory_num = 100\n",
    "vec_train_k = vectorize_kv(train_k, mem_maxlen, w2i)\n",
    "vec_train_v = vectorize_kv(train_v, mem_maxlen, w2i)\n",
    "print('vec_k', vec_train_k.shape)\n",
    "print('vec_v', vec_train_v.shape)"
   ]
  },
  {
   "cell_type": "code",
   "execution_count": 5,
   "metadata": {},
   "outputs": [
    {
     "name": "stdout",
     "output_type": "stream",
     "text": [
      "['primrose path', 'starred_actors', 'ginger rogers', '!starred_actors', 'romance in manhattan', 'starred_actors', 'ginger rogers', '!starred_actors', 'ginger and fred', 'has_plot', 'amelia', 'and', 'pippo', 'are', 'reunited', 'after', 'several', 'decades', 'to', 'perform', 'their', 'old', 'music-hall', 'act', '(', 'imitating', 'fred astaire', 'and', 'ginger rogers', ')', 'on', 'a', 'tv', 'variety show', '.', 'it', \"'s\", 'both', 'a', 'touchingly', 'nostalgic', '...', '!has_plot', 'the major and the minor', 'starred_actors', 'ginger rogers', '!starred_actors', 'once upon a honeymoon', 'starred_actors', 'ginger rogers', '!starred_actors', \"we're not married!\", 'starred_actors', 'ginger rogers', '!starred_actors', 'tender comrade', 'starred_actors', 'ginger rogers', '!starred_actors', 'kitty foyle', 'starred_actors', 'ginger rogers', '!starred_actors', 'kitty foyle', 'has_tags', 'ginger rogers', '!has_tags', 'flying down to rio', 'starred_actors', 'ginger rogers', '!starred_actors', 'bachelor mother', 'starred_actors', 'ginger rogers', '!starred_actors', 'storm warning', 'starred_actors', 'ginger rogers', '!starred_actors', 'the barkleys of broadway', 'starred_actors', 'ginger rogers', '!starred_actors', 'the barkleys of broadway', 'has_tags', 'ginger rogers', '!has_tags', 'monkey business', 'starred_actors', 'ginger rogers', '!starred_actors', 'star of midnight', 'starred_actors', 'ginger rogers', '!starred_actors', 'star of midnight', 'has_plot', 'a', 'dancer', 'disappears'] \n",
      " [52181 60601 24237 55769 60601 24237 24235 26317  3175  3510  5013  1566\n",
      "  2191 48554  1178    35 22432  3510 24237    38 48760   485  3533  4338\n",
      "    42 29179    27   485 48206    43 65361 60601 24237 48800 60601 24237\n",
      "  5588 60601 24237 63021 60601 24237 36981 60601 24237 36981 26318 24237\n",
      " 21739 60601 24237  6019 60601 24237 61395 60601 24237 63533 60601 24237\n",
      " 63533 26318 24237 45783 60601 24237 60576 60601 24237 60576 26317   485\n",
      " 14611     0     0     0     0     0     0     0     0     0     0     0\n",
      "     0     0     0     0     0     0     0     0     0     0     0     0\n",
      "     0     0     0     0]\n",
      "candidate answer num: 73429\n",
      "question[0] [ 5804 46080  5013  1080 24237     0     0     0     0     0     0     0\n",
      "     0     0     0     0     0     0     0     0     0]\n"
     ]
    }
   ],
   "source": [
    "print(train_k[0],'\\n', vec_train_k[0])\n",
    "print('candidate answer num:', len(answers_train[0]))\n",
    "print('question[0]', queries_train[0])"
   ]
  },
  {
   "cell_type": "code",
   "execution_count": 12,
   "metadata": {},
   "outputs": [
    {
     "name": "stdout",
     "output_type": "stream",
     "text": [
      "vec_test_k.shape (96185, 100)\n",
      "vec_test_v.shape (96185, 100)\n",
      "queries_train.shape (96185, 21)\n",
      "ans (96185, 73429)\n"
     ]
    }
   ],
   "source": [
    "def MemNNKV(mem_size, query_maxlen, vocab_size, embd_size):\n",
    "    print('mem_size:', mem_size)\n",
    "    print('q_max', query_maxlen)\n",
    "    print('embd_size', embd_size)\n",
    "    print('vocab_size', vocab_size)\n",
    "#     print('entity_size', entity_size)\n",
    "    print('-----------')\n",
    "\n",
    "    # placeholders\n",
    "    key = Input((mem_size,), name='Key_Input')\n",
    "    val = Input((mem_size,), name='Val_Input')\n",
    "    question = Input((query_maxlen,), name='Question_Input')\n",
    "\n",
    "    # encoders\n",
    "    # memory encoders\n",
    "    # output: (None, mem_size, embd_size)\n",
    "#     shared_embd_A = Embedding(input_dim=vocab_size, output_dim=embd_size, input_length=mem_size)\n",
    "    shared_embd_A = Embedding(input_dim=vocab_size, output_dim=embd_size)\n",
    "    key_encoder = Sequential(name='Key_Encoder')\n",
    "    key_encoder.add(shared_embd_A)\n",
    "#     key_encoder.add(Dropout(0.3))\n",
    "    val_encoder = Sequential(name='Val_Encoder')\n",
    "    val_encoder.add(shared_embd_A)\n",
    "#     val_encoder.add(Dropout(0.3))\n",
    "\n",
    "    # embed the question into a sequence of vectors\n",
    "    # output: (None, query_maxlen, embd_size)\n",
    "    question_encoder = Sequential(name='Question_Encoder')\n",
    "#     question_encoder.add(Embedding(input_dim=vocab_size, output_dim=embd_size, input_length=query_maxlen))\n",
    "    question_encoder.add(shared_embd_A)\n",
    "#     question_encoder.add(Dropout(0.3))\n",
    "\n",
    "    # encode input sequence and questions (which are indices)\n",
    "    # to sequences of dense vectors\n",
    "    key_encoded = key_encoder(key) # (None, mem_size, embd_size)\n",
    "    val_encoded = val_encoder(val) # (None, mem_size, embd_size)\n",
    "    question_encoded = question_encoder(question) # (None, query_max_len, embd_size)\n",
    "    \n",
    "    ph = dot([question_encoded, key_encoded], axes=(2, 2)) # (None, query_max_len, mem_size)\n",
    "    ph = Permute((2, 1))(ph) # (None, mem_size, query_max_len)\n",
    "    o = dot([ph, val_encoded], axes=(1, 1)) # (None, query_max_len, embd_size)\n",
    "    R = Dense(embd_size, input_shape=(embd_size,), name='R_Dense')     \n",
    "\n",
    "    q2 = R(add([question_encoded,  o])) # (None, query_max_len, embd_size)\n",
    "    answer = Dense(vocab_size, name='last_Dense')(q2)\n",
    "    answer = Lambda(lambda x: K.sum(x, axis=1), output_shape=(vocab_size, )) (answer)\n",
    "    print('answer.shape', answer.shape)\n",
    "    preds = Activation('softmax')(answer)\n",
    "    \n",
    "    # build the final model\n",
    "    model = Model([key, val, question], preds)\n",
    "    model.compile(optimizer='rmsprop', loss='categorical_crossentropy', metrics=['accuracy'])\n",
    "    return model\n",
    "\n",
    "print('vec_test_k.shape', vec_train_k.shape)\n",
    "print('vec_test_v.shape', vec_train_v.shape)\n",
    "print('queries_train.shape', queries_train.shape)\n",
    "print('ans', answers_train.shape)"
   ]
  },
  {
   "cell_type": "code",
   "execution_count": 13,
   "metadata": {},
   "outputs": [
    {
     "name": "stdout",
     "output_type": "stream",
     "text": [
      "mem_size: 100\n",
      "q_max 21\n",
      "embd_size 32\n",
      "vocab_size 73429\n",
      "-----------\n",
      "answer.shape (?, 73429)\n",
      "____________________________________________________________________________________________________\n",
      "Layer (type)                     Output Shape          Param #     Connected to                     \n",
      "====================================================================================================\n",
      "Question_Input (InputLayer)      (None, 21)            0                                            \n",
      "____________________________________________________________________________________________________\n",
      "Key_Input (InputLayer)           (None, 100)           0                                            \n",
      "____________________________________________________________________________________________________\n",
      "Question_Encoder (Sequential)    multiple              2349728     Question_Input[0][0]             \n",
      "____________________________________________________________________________________________________\n",
      "Key_Encoder (Sequential)         multiple              2349728     Key_Input[0][0]                  \n",
      "____________________________________________________________________________________________________\n",
      "dot_7 (Dot)                      (None, 21, 100)       0           Question_Encoder[1][0]           \n",
      "                                                                   Key_Encoder[1][0]                \n",
      "____________________________________________________________________________________________________\n",
      "Val_Input (InputLayer)           (None, 100)           0                                            \n",
      "____________________________________________________________________________________________________\n",
      "permute_4 (Permute)              (None, 100, 21)       0           dot_7[0][0]                      \n",
      "____________________________________________________________________________________________________\n",
      "Val_Encoder (Sequential)         multiple              2349728     Val_Input[0][0]                  \n",
      "____________________________________________________________________________________________________\n",
      "dot_8 (Dot)                      (None, 21, 32)        0           permute_4[0][0]                  \n",
      "                                                                   Val_Encoder[1][0]                \n",
      "____________________________________________________________________________________________________\n",
      "add_4 (Add)                      (None, 21, 32)        0           Question_Encoder[1][0]           \n",
      "                                                                   dot_8[0][0]                      \n",
      "____________________________________________________________________________________________________\n",
      "R_Dense (Dense)                  (None, 21, 32)        1056        add_4[0][0]                      \n",
      "____________________________________________________________________________________________________\n",
      "last_Dense (Dense)               (None, 21, 73429)     2423157     R_Dense[0][0]                    \n",
      "____________________________________________________________________________________________________\n",
      "lambda_4 (Lambda)                (None, 73429)         0           last_Dense[0][0]                 \n",
      "____________________________________________________________________________________________________\n",
      "activation_4 (Activation)        (None, 73429)         0           lambda_4[0][0]                   \n",
      "====================================================================================================\n",
      "Total params: 4,773,941\n",
      "Trainable params: 4,773,941\n",
      "Non-trainable params: 0\n",
      "____________________________________________________________________________________________________\n",
      "None\n",
      "Epoch 1/10\n",
      "10848/96185 [==>...........................] - ETA: 77s - loss: 19.2103 - acc: 0.0338"
     ]
    },
    {
     "ename": "KeyboardInterrupt",
     "evalue": "",
     "output_type": "error",
     "traceback": [
      "\u001b[0;31m---------------------------------------------------------------------------\u001b[0m",
      "\u001b[0;31mKeyboardInterrupt\u001b[0m                         Traceback (most recent call last)",
      "\u001b[0;32m<ipython-input-13-c202c55f5a7c>\u001b[0m in \u001b[0;36m<module>\u001b[0;34m()\u001b[0m\n\u001b[1;32m      4\u001b[0m memnn_kv.fit([vec_train_k, vec_train_v, queries_train], answers_train,\n\u001b[1;32m      5\u001b[0m           \u001b[0mbatch_size\u001b[0m\u001b[0;34m=\u001b[0m\u001b[0;36m32\u001b[0m\u001b[0;34m,\u001b[0m\u001b[0;34m\u001b[0m\u001b[0m\n\u001b[0;32m----> 6\u001b[0;31m           epochs=10)#,\n\u001b[0m\u001b[1;32m      7\u001b[0m \u001b[0;31m#           validation_data=([vec_test_kv, vec_test_kv, queries_test, answers_test], answers_test))\u001b[0m\u001b[0;34m\u001b[0m\u001b[0;34m\u001b[0m\u001b[0m\n",
      "\u001b[0;32m/home/jonki/anaconda3/lib/python3.6/site-packages/keras/engine/training.py\u001b[0m in \u001b[0;36mfit\u001b[0;34m(self, x, y, batch_size, epochs, verbose, callbacks, validation_split, validation_data, shuffle, class_weight, sample_weight, initial_epoch, steps_per_epoch, validation_steps, **kwargs)\u001b[0m\n\u001b[1;32m   1596\u001b[0m                               \u001b[0minitial_epoch\u001b[0m\u001b[0;34m=\u001b[0m\u001b[0minitial_epoch\u001b[0m\u001b[0;34m,\u001b[0m\u001b[0;34m\u001b[0m\u001b[0m\n\u001b[1;32m   1597\u001b[0m                               \u001b[0msteps_per_epoch\u001b[0m\u001b[0;34m=\u001b[0m\u001b[0msteps_per_epoch\u001b[0m\u001b[0;34m,\u001b[0m\u001b[0;34m\u001b[0m\u001b[0m\n\u001b[0;32m-> 1598\u001b[0;31m                               validation_steps=validation_steps)\n\u001b[0m\u001b[1;32m   1599\u001b[0m \u001b[0;34m\u001b[0m\u001b[0m\n\u001b[1;32m   1600\u001b[0m     def evaluate(self, x, y,\n",
      "\u001b[0;32m/home/jonki/anaconda3/lib/python3.6/site-packages/keras/engine/training.py\u001b[0m in \u001b[0;36m_fit_loop\u001b[0;34m(self, f, ins, out_labels, batch_size, epochs, verbose, callbacks, val_f, val_ins, shuffle, callback_metrics, initial_epoch, steps_per_epoch, validation_steps)\u001b[0m\n\u001b[1;32m   1181\u001b[0m                     \u001b[0mbatch_logs\u001b[0m\u001b[0;34m[\u001b[0m\u001b[0;34m'size'\u001b[0m\u001b[0;34m]\u001b[0m \u001b[0;34m=\u001b[0m \u001b[0mlen\u001b[0m\u001b[0;34m(\u001b[0m\u001b[0mbatch_ids\u001b[0m\u001b[0;34m)\u001b[0m\u001b[0;34m\u001b[0m\u001b[0m\n\u001b[1;32m   1182\u001b[0m                     \u001b[0mcallbacks\u001b[0m\u001b[0;34m.\u001b[0m\u001b[0mon_batch_begin\u001b[0m\u001b[0;34m(\u001b[0m\u001b[0mbatch_index\u001b[0m\u001b[0;34m,\u001b[0m \u001b[0mbatch_logs\u001b[0m\u001b[0;34m)\u001b[0m\u001b[0;34m\u001b[0m\u001b[0m\n\u001b[0;32m-> 1183\u001b[0;31m                     \u001b[0mouts\u001b[0m \u001b[0;34m=\u001b[0m \u001b[0mf\u001b[0m\u001b[0;34m(\u001b[0m\u001b[0mins_batch\u001b[0m\u001b[0;34m)\u001b[0m\u001b[0;34m\u001b[0m\u001b[0m\n\u001b[0m\u001b[1;32m   1184\u001b[0m                     \u001b[0;32mif\u001b[0m \u001b[0;32mnot\u001b[0m \u001b[0misinstance\u001b[0m\u001b[0;34m(\u001b[0m\u001b[0mouts\u001b[0m\u001b[0;34m,\u001b[0m \u001b[0mlist\u001b[0m\u001b[0;34m)\u001b[0m\u001b[0;34m:\u001b[0m\u001b[0;34m\u001b[0m\u001b[0m\n\u001b[1;32m   1185\u001b[0m                         \u001b[0mouts\u001b[0m \u001b[0;34m=\u001b[0m \u001b[0;34m[\u001b[0m\u001b[0mouts\u001b[0m\u001b[0;34m]\u001b[0m\u001b[0;34m\u001b[0m\u001b[0m\n",
      "\u001b[0;32m/home/jonki/anaconda3/lib/python3.6/site-packages/keras/backend/tensorflow_backend.py\u001b[0m in \u001b[0;36m__call__\u001b[0;34m(self, inputs)\u001b[0m\n\u001b[1;32m   2271\u001b[0m         updated = session.run(self.outputs + [self.updates_op],\n\u001b[1;32m   2272\u001b[0m                               \u001b[0mfeed_dict\u001b[0m\u001b[0;34m=\u001b[0m\u001b[0mfeed_dict\u001b[0m\u001b[0;34m,\u001b[0m\u001b[0;34m\u001b[0m\u001b[0m\n\u001b[0;32m-> 2273\u001b[0;31m                               **self.session_kwargs)\n\u001b[0m\u001b[1;32m   2274\u001b[0m         \u001b[0;32mreturn\u001b[0m \u001b[0mupdated\u001b[0m\u001b[0;34m[\u001b[0m\u001b[0;34m:\u001b[0m\u001b[0mlen\u001b[0m\u001b[0;34m(\u001b[0m\u001b[0mself\u001b[0m\u001b[0;34m.\u001b[0m\u001b[0moutputs\u001b[0m\u001b[0;34m)\u001b[0m\u001b[0;34m]\u001b[0m\u001b[0;34m\u001b[0m\u001b[0m\n\u001b[1;32m   2275\u001b[0m \u001b[0;34m\u001b[0m\u001b[0m\n",
      "\u001b[0;32m/home/jonki/anaconda3/lib/python3.6/site-packages/tensorflow/python/client/session.py\u001b[0m in \u001b[0;36mrun\u001b[0;34m(self, fetches, feed_dict, options, run_metadata)\u001b[0m\n\u001b[1;32m    893\u001b[0m     \u001b[0;32mtry\u001b[0m\u001b[0;34m:\u001b[0m\u001b[0;34m\u001b[0m\u001b[0m\n\u001b[1;32m    894\u001b[0m       result = self._run(None, fetches, feed_dict, options_ptr,\n\u001b[0;32m--> 895\u001b[0;31m                          run_metadata_ptr)\n\u001b[0m\u001b[1;32m    896\u001b[0m       \u001b[0;32mif\u001b[0m \u001b[0mrun_metadata\u001b[0m\u001b[0;34m:\u001b[0m\u001b[0;34m\u001b[0m\u001b[0m\n\u001b[1;32m    897\u001b[0m         \u001b[0mproto_data\u001b[0m \u001b[0;34m=\u001b[0m \u001b[0mtf_session\u001b[0m\u001b[0;34m.\u001b[0m\u001b[0mTF_GetBuffer\u001b[0m\u001b[0;34m(\u001b[0m\u001b[0mrun_metadata_ptr\u001b[0m\u001b[0;34m)\u001b[0m\u001b[0;34m\u001b[0m\u001b[0m\n",
      "\u001b[0;32m/home/jonki/anaconda3/lib/python3.6/site-packages/tensorflow/python/client/session.py\u001b[0m in \u001b[0;36m_run\u001b[0;34m(self, handle, fetches, feed_dict, options, run_metadata)\u001b[0m\n\u001b[1;32m   1122\u001b[0m     \u001b[0;32mif\u001b[0m \u001b[0mfinal_fetches\u001b[0m \u001b[0;32mor\u001b[0m \u001b[0mfinal_targets\u001b[0m \u001b[0;32mor\u001b[0m \u001b[0;34m(\u001b[0m\u001b[0mhandle\u001b[0m \u001b[0;32mand\u001b[0m \u001b[0mfeed_dict_tensor\u001b[0m\u001b[0;34m)\u001b[0m\u001b[0;34m:\u001b[0m\u001b[0;34m\u001b[0m\u001b[0m\n\u001b[1;32m   1123\u001b[0m       results = self._do_run(handle, final_targets, final_fetches,\n\u001b[0;32m-> 1124\u001b[0;31m                              feed_dict_tensor, options, run_metadata)\n\u001b[0m\u001b[1;32m   1125\u001b[0m     \u001b[0;32melse\u001b[0m\u001b[0;34m:\u001b[0m\u001b[0;34m\u001b[0m\u001b[0m\n\u001b[1;32m   1126\u001b[0m       \u001b[0mresults\u001b[0m \u001b[0;34m=\u001b[0m \u001b[0;34m[\u001b[0m\u001b[0;34m]\u001b[0m\u001b[0;34m\u001b[0m\u001b[0m\n",
      "\u001b[0;32m/home/jonki/anaconda3/lib/python3.6/site-packages/tensorflow/python/client/session.py\u001b[0m in \u001b[0;36m_do_run\u001b[0;34m(self, handle, target_list, fetch_list, feed_dict, options, run_metadata)\u001b[0m\n\u001b[1;32m   1319\u001b[0m     \u001b[0;32mif\u001b[0m \u001b[0mhandle\u001b[0m \u001b[0;32mis\u001b[0m \u001b[0;32mNone\u001b[0m\u001b[0;34m:\u001b[0m\u001b[0;34m\u001b[0m\u001b[0m\n\u001b[1;32m   1320\u001b[0m       return self._do_call(_run_fn, self._session, feeds, fetches, targets,\n\u001b[0;32m-> 1321\u001b[0;31m                            options, run_metadata)\n\u001b[0m\u001b[1;32m   1322\u001b[0m     \u001b[0;32melse\u001b[0m\u001b[0;34m:\u001b[0m\u001b[0;34m\u001b[0m\u001b[0m\n\u001b[1;32m   1323\u001b[0m       \u001b[0;32mreturn\u001b[0m \u001b[0mself\u001b[0m\u001b[0;34m.\u001b[0m\u001b[0m_do_call\u001b[0m\u001b[0;34m(\u001b[0m\u001b[0m_prun_fn\u001b[0m\u001b[0;34m,\u001b[0m \u001b[0mself\u001b[0m\u001b[0;34m.\u001b[0m\u001b[0m_session\u001b[0m\u001b[0;34m,\u001b[0m \u001b[0mhandle\u001b[0m\u001b[0;34m,\u001b[0m \u001b[0mfeeds\u001b[0m\u001b[0;34m,\u001b[0m \u001b[0mfetches\u001b[0m\u001b[0;34m)\u001b[0m\u001b[0;34m\u001b[0m\u001b[0m\n",
      "\u001b[0;32m/home/jonki/anaconda3/lib/python3.6/site-packages/tensorflow/python/client/session.py\u001b[0m in \u001b[0;36m_do_call\u001b[0;34m(self, fn, *args)\u001b[0m\n\u001b[1;32m   1325\u001b[0m   \u001b[0;32mdef\u001b[0m \u001b[0m_do_call\u001b[0m\u001b[0;34m(\u001b[0m\u001b[0mself\u001b[0m\u001b[0;34m,\u001b[0m \u001b[0mfn\u001b[0m\u001b[0;34m,\u001b[0m \u001b[0;34m*\u001b[0m\u001b[0margs\u001b[0m\u001b[0;34m)\u001b[0m\u001b[0;34m:\u001b[0m\u001b[0;34m\u001b[0m\u001b[0m\n\u001b[1;32m   1326\u001b[0m     \u001b[0;32mtry\u001b[0m\u001b[0;34m:\u001b[0m\u001b[0;34m\u001b[0m\u001b[0m\n\u001b[0;32m-> 1327\u001b[0;31m       \u001b[0;32mreturn\u001b[0m \u001b[0mfn\u001b[0m\u001b[0;34m(\u001b[0m\u001b[0;34m*\u001b[0m\u001b[0margs\u001b[0m\u001b[0;34m)\u001b[0m\u001b[0;34m\u001b[0m\u001b[0m\n\u001b[0m\u001b[1;32m   1328\u001b[0m     \u001b[0;32mexcept\u001b[0m \u001b[0merrors\u001b[0m\u001b[0;34m.\u001b[0m\u001b[0mOpError\u001b[0m \u001b[0;32mas\u001b[0m \u001b[0me\u001b[0m\u001b[0;34m:\u001b[0m\u001b[0;34m\u001b[0m\u001b[0m\n\u001b[1;32m   1329\u001b[0m       \u001b[0mmessage\u001b[0m \u001b[0;34m=\u001b[0m \u001b[0mcompat\u001b[0m\u001b[0;34m.\u001b[0m\u001b[0mas_text\u001b[0m\u001b[0;34m(\u001b[0m\u001b[0me\u001b[0m\u001b[0;34m.\u001b[0m\u001b[0mmessage\u001b[0m\u001b[0;34m)\u001b[0m\u001b[0;34m\u001b[0m\u001b[0m\n",
      "\u001b[0;32m/home/jonki/anaconda3/lib/python3.6/site-packages/tensorflow/python/client/session.py\u001b[0m in \u001b[0;36m_run_fn\u001b[0;34m(session, feed_dict, fetch_list, target_list, options, run_metadata)\u001b[0m\n\u001b[1;32m   1304\u001b[0m           return tf_session.TF_Run(session, options,\n\u001b[1;32m   1305\u001b[0m                                    \u001b[0mfeed_dict\u001b[0m\u001b[0;34m,\u001b[0m \u001b[0mfetch_list\u001b[0m\u001b[0;34m,\u001b[0m \u001b[0mtarget_list\u001b[0m\u001b[0;34m,\u001b[0m\u001b[0;34m\u001b[0m\u001b[0m\n\u001b[0;32m-> 1306\u001b[0;31m                                    status, run_metadata)\n\u001b[0m\u001b[1;32m   1307\u001b[0m \u001b[0;34m\u001b[0m\u001b[0m\n\u001b[1;32m   1308\u001b[0m     \u001b[0;32mdef\u001b[0m \u001b[0m_prun_fn\u001b[0m\u001b[0;34m(\u001b[0m\u001b[0msession\u001b[0m\u001b[0;34m,\u001b[0m \u001b[0mhandle\u001b[0m\u001b[0;34m,\u001b[0m \u001b[0mfeed_dict\u001b[0m\u001b[0;34m,\u001b[0m \u001b[0mfetch_list\u001b[0m\u001b[0;34m)\u001b[0m\u001b[0;34m:\u001b[0m\u001b[0;34m\u001b[0m\u001b[0m\n",
      "\u001b[0;31mKeyboardInterrupt\u001b[0m: "
     ]
    }
   ],
   "source": [
    "embd_size = 32\n",
    "memnn_kv = MemNNKV(mem_maxlen, query_maxlen, vocab_size, embd_size)\n",
    "print(memnn_kv.summary())\n",
    "memnn_kv.fit([vec_train_k, vec_train_v, queries_train], answers_train,\n",
    "          batch_size=32,\n",
    "          epochs=10)#,\n",
    "#           validation_data=([vec_test_kv, vec_test_kv, queries_test, answers_test], answers_test))"
   ]
  },
  {
   "cell_type": "code",
   "execution_count": null,
   "metadata": {
    "collapsed": true
   },
   "outputs": [],
   "source": [
    "memnn_kv.save('model_memnn_kv.h5')"
   ]
  },
  {
   "cell_type": "code",
   "execution_count": null,
   "metadata": {
    "collapsed": true
   },
   "outputs": [],
   "source": [
    "model = load_model('model_memnn_kv.h5')\n",
    "score = model.evaluate([vec_test_kv, vec_test_kv, queries_test, answers_test], answers_test, verbose=1)\n",
    "print('Test loss:', score[0])\n",
    "print('Test accuracy:', score[1])"
   ]
  },
  {
   "cell_type": "code",
   "execution_count": null,
   "metadata": {
    "collapsed": true
   },
   "outputs": [],
   "source": []
  },
  {
   "cell_type": "code",
   "execution_count": null,
   "metadata": {
    "collapsed": true
   },
   "outputs": [],
   "source": [
    "vocab = set()\n",
    "for story, q, answer in (train_data + test_data):#[:100]:\n",
    "#     print(story + q + answer)\n",
    "    vocab |= set(story + q + answer)\n",
    "vocab = sorted(vocab)\n",
    "print(len(list(set(vocab))))\n",
    "print(vocab[:10])"
   ]
  },
  {
   "cell_type": "code",
   "execution_count": null,
   "metadata": {
    "collapsed": true
   },
   "outputs": [],
   "source": [
    "vocab[:100]"
   ]
  },
  {
   "cell_type": "code",
   "execution_count": null,
   "metadata": {
    "collapsed": true
   },
   "outputs": [],
   "source": [
    "def MemNN(story_maxlen, query_maxlen, vocab_size, embd_size):\n",
    "    # placeholders\n",
    "    input_sequence = Input((story_maxlen,))\n",
    "    question = Input((query_maxlen,))\n",
    "\n",
    "    # encoders\n",
    "    # embed the input sequence into a sequence of vectors\n",
    "    input_encoder_m = Sequential()\n",
    "    input_encoder_m.add(Embedding(input_dim=vocab_size,\n",
    "                                  output_dim=embd_size))\n",
    "    input_encoder_m.add(Dropout(0.3))\n",
    "    # output: (samples, story_maxlen, embedding_dim)\n",
    "\n",
    "    # embed the input into a sequence of vectors of size query_maxlen\n",
    "    input_encoder_c = Sequential()\n",
    "    input_encoder_c.add(Embedding(input_dim=vocab_size,\n",
    "                                  output_dim=query_maxlen))\n",
    "    input_encoder_c.add(Dropout(0.3))\n",
    "    # output: (samples, story_maxlen, query_maxlen)\n",
    "\n",
    "    # embed the question into a sequence of vectors\n",
    "    question_encoder = Sequential()\n",
    "    question_encoder.add(Embedding(input_dim=vocab_size,\n",
    "                                   output_dim=embd_size,\n",
    "                                   input_length=query_maxlen))\n",
    "    question_encoder.add(Dropout(0.3))\n",
    "    # output: (samples, query_maxlen, embedding_dim)\n",
    "\n",
    "    # encode input sequence and questions (which are indices)\n",
    "    # to sequences of dense vectors\n",
    "    input_encoded_m = input_encoder_m(input_sequence)\n",
    "    input_encoded_c = input_encoder_c(input_sequence)\n",
    "    question_encoded = question_encoder(question) # (None, query_max_len, embd_size)\n",
    "\n",
    "    # compute a 'match' between the first input vector sequence\n",
    "    # and the question vector sequence\n",
    "    # shape: `(samples, story_maxlen, query_maxlen)`\n",
    "    match = dot([input_encoded_m, question_encoded], axes=(2, 2))\n",
    "    match = Activation('softmax')(match) # (None, max_storylen, query_maxlen)\n",
    "\n",
    "    # add the match matrix with the second input vector sequence\n",
    "    response = add([match, input_encoded_c])  # (samples, story_maxlen, query_maxlen)\n",
    "    response = Permute((2, 1))(response)  # (samples, query_maxlen, story_maxlen)\n",
    "    print('---')\n",
    "    print('match',match.shape)\n",
    "    print('input_c', input_encoded_c.shape)\n",
    "    print('response', response.shape)\n",
    "    # concatenate the match matrix with the question vector sequence\n",
    "#     answer = concatenate([response, question_encoded])\n",
    "    answer = response\n",
    "    print('---')\n",
    "    print('resp.shape', response.shape)\n",
    "    print('q_enc.shape', question_encoded.shape)\n",
    "    print('answer.shape', answer.shape)\n",
    "\n",
    "    # the original paper uses a matrix multiplication for this reduction step.\n",
    "    # we choose to use a RNN instead.\n",
    "    answer = LSTM(32)(answer)  # (samples, 32)\n",
    "\n",
    "    # one regularization layer -- more would probably be needed.\n",
    "#     answer = Dropout(0.3)(answer)\n",
    "    answer = Dense(vocab_size)(answer)  # (samples, vocab_size)\n",
    "    # we output a probability distribution over the vocabulary\n",
    "    answer = Activation('softmax')(answer)\n",
    "\n",
    "    # build the final model\n",
    "    model = Model([input_sequence, question], answer)\n",
    "    model.compile(optimizer='rmsprop', loss='categorical_crossentropy',\n",
    "                  metrics=['accuracy'])\n",
    "    return model\n",
    "\n",
    "embd_size = 64\n",
    "model = MemNN(story_maxlen, query_maxlen, vocab_size, embd_size)\n",
    "print(model.summary())\n",
    "\n",
    "# train\n",
    "model.fit([inputs_train, queries_train], answers_train,\n",
    "          batch_size=32,\n",
    "          epochs=3,\n",
    "          validation_data=([inputs_test, queries_test], answers_test))"
   ]
  },
  {
   "cell_type": "code",
   "execution_count": null,
   "metadata": {
    "collapsed": true
   },
   "outputs": [],
   "source": [
    "model = Sequential()\n",
    "model.add(Embedding(1000, 64, input_length=10))\n",
    "# the model will take as input an integer matrix of size (batch, input_length).\n",
    "# the largest integer (i.e. word index) in the input should be no larger than 999 (vocabulary size).\n",
    "# now model.output_shape == (None, 10, 64), where None is the batch dimension.\n",
    "\n",
    "input_array = np.random.randint(1000, size=(32, 10))\n",
    "\n",
    "model.compile('rmsprop', 'mse')\n",
    "print(model.shape)\n",
    "output_array = model.predict(input_array)"
   ]
  },
  {
   "cell_type": "code",
   "execution_count": null,
   "metadata": {
    "collapsed": true
   },
   "outputs": [],
   "source": []
  }
 ],
 "metadata": {
  "kernelspec": {
   "display_name": "Python 3",
   "language": "python",
   "name": "python3"
  },
  "language_info": {
   "codemirror_mode": {
    "name": "ipython",
    "version": 3
   },
   "file_extension": ".py",
   "mimetype": "text/x-python",
   "name": "python",
   "nbconvert_exporter": "python",
   "pygments_lexer": "ipython3",
   "version": "3.6.1"
  }
 },
 "nbformat": 4,
 "nbformat_minor": 2
}
