{
 "cells": [
  {
   "cell_type": "code",
   "execution_count": 1,
   "metadata": {
    "collapsed": true
   },
   "outputs": [],
   "source": [
    "import tensorflow as tf\n",
    "import numpy as np\n",
    "from nltk.tokenize import word_tokenize\n",
    "from itertools import chain\n",
    "import functools\n",
    "import pickle"
   ]
  },
  {
   "cell_type": "code",
   "execution_count": 2,
   "metadata": {
    "collapsed": true
   },
   "outputs": [],
   "source": [
    "def save_pickle(d, path):\n",
    "    with open(path, mode='wb') as f:\n",
    "        pickle.dump(d, f)\n",
    "def load_pickle(path):\n",
    "    with open(path, mode='rb') as f:\n",
    "        return pickle.load(f)"
   ]
  },
  {
   "cell_type": "code",
   "execution_count": 3,
   "metadata": {},
   "outputs": [
    {
     "name": "stdout",
     "output_type": "stream",
     "text": [
      "(['Where', 'is', 'Mary', '?'], ['bathroom'])\n"
     ]
    }
   ],
   "source": [
    "# with open('data/movie_dialog_dataset/task1_qa/task1_qa_pipe_train.txt', 'r') as f:\n",
    "with open('data/qa1_single-supporting-fact_train.txt', 'r') as f:\n",
    "    lines = f.readlines()\n",
    "    data = []\n",
    "    for l in lines:\n",
    "        l = l.rstrip()\n",
    "        if '\\t' not in l: continue\n",
    "        turn, left = l.split(' ', 1)\n",
    "        q, a = left.split('\\t', 1)\n",
    "#         data.append((word_tokenize(q), a.split('|')))\n",
    "        data.append((word_tokenize(q), [a.split('\\t')[0]]))\n",
    "# save_pickle('data.pickle')\n",
    "print(data[0])"
   ]
  },
  {
   "cell_type": "code",
   "execution_count": 4,
   "metadata": {},
   "outputs": [],
   "source": [
    "max_query_size = max(map(len, chain.from_iterable(q for q, _ in data)))\n",
    "vocab = sorted(functools.reduce(lambda x, y: x | y, (set(q + a) for q, a in data)))\n",
    "vocab_size = len(vocab) + 1 # +1 for nil word\n",
    "w2i = dict((c, i+1) for i, c in enumerate(vocab))\n",
    "w2i['__NIL__'] = 0\n",
    "# vocab_q = sorted(functools.reduce(lambda x, y: x | y, (set(q) for q, _ in data)))\n",
    "# vocab_a = sorted(functools.reduce(lambda x, y: x | y, (set(a) for _, a in data)))\n",
    "# print(len(vocab))"
   ]
  },
  {
   "cell_type": "code",
   "execution_count": 5,
   "metadata": {},
   "outputs": [
    {
     "ename": "NameError",
     "evalue": "name 'vocab_q' is not defined",
     "output_type": "error",
     "traceback": [
      "\u001b[0;31m---------------------------------------------------------------------------\u001b[0m",
      "\u001b[0;31mNameError\u001b[0m                                 Traceback (most recent call last)",
      "\u001b[0;32m<ipython-input-5-ee5a4ca3f041>\u001b[0m in \u001b[0;36m<module>\u001b[0;34m()\u001b[0m\n\u001b[0;32m----> 1\u001b[0;31m \u001b[0mw2i_q\u001b[0m \u001b[0;34m=\u001b[0m \u001b[0mdict\u001b[0m\u001b[0;34m(\u001b[0m\u001b[0;34m(\u001b[0m\u001b[0mc\u001b[0m\u001b[0;34m,\u001b[0m \u001b[0mi\u001b[0m\u001b[0;34m+\u001b[0m\u001b[0;36m1\u001b[0m\u001b[0;34m)\u001b[0m \u001b[0;32mfor\u001b[0m \u001b[0mi\u001b[0m\u001b[0;34m,\u001b[0m \u001b[0mc\u001b[0m \u001b[0;32min\u001b[0m \u001b[0menumerate\u001b[0m\u001b[0;34m(\u001b[0m\u001b[0mvocab_q\u001b[0m\u001b[0;34m)\u001b[0m\u001b[0;34m)\u001b[0m\u001b[0;34m\u001b[0m\u001b[0m\n\u001b[0m\u001b[1;32m      2\u001b[0m \u001b[0;31m# w2i_q['__NIL__'] = 0\u001b[0m\u001b[0;34m\u001b[0m\u001b[0;34m\u001b[0m\u001b[0m\n\u001b[1;32m      3\u001b[0m \u001b[0mi2w_q\u001b[0m \u001b[0;34m=\u001b[0m \u001b[0mdict\u001b[0m\u001b[0;34m(\u001b[0m\u001b[0;34m(\u001b[0m\u001b[0mi\u001b[0m\u001b[0;34m+\u001b[0m\u001b[0;36m1\u001b[0m\u001b[0;34m,\u001b[0m \u001b[0mc\u001b[0m\u001b[0;34m)\u001b[0m \u001b[0;32mfor\u001b[0m \u001b[0mi\u001b[0m\u001b[0;34m,\u001b[0m \u001b[0mc\u001b[0m \u001b[0;32min\u001b[0m \u001b[0menumerate\u001b[0m\u001b[0;34m(\u001b[0m\u001b[0mvocab_q\u001b[0m\u001b[0;34m)\u001b[0m\u001b[0;34m)\u001b[0m\u001b[0;34m\u001b[0m\u001b[0m\n\u001b[1;32m      4\u001b[0m \u001b[0;31m# i2w[0] = '__NIL__'\u001b[0m\u001b[0;34m\u001b[0m\u001b[0;34m\u001b[0m\u001b[0m\n\u001b[1;32m      5\u001b[0m \u001b[0mw2i_a\u001b[0m \u001b[0;34m=\u001b[0m \u001b[0mdict\u001b[0m\u001b[0;34m(\u001b[0m\u001b[0;34m(\u001b[0m\u001b[0mc\u001b[0m\u001b[0;34m,\u001b[0m \u001b[0mi\u001b[0m\u001b[0;34m+\u001b[0m\u001b[0;36m1\u001b[0m\u001b[0;34m)\u001b[0m \u001b[0;32mfor\u001b[0m \u001b[0mi\u001b[0m\u001b[0;34m,\u001b[0m \u001b[0mc\u001b[0m \u001b[0;32min\u001b[0m \u001b[0menumerate\u001b[0m\u001b[0;34m(\u001b[0m\u001b[0mvocab_a\u001b[0m\u001b[0;34m)\u001b[0m\u001b[0;34m)\u001b[0m\u001b[0;34m\u001b[0m\u001b[0m\n",
      "\u001b[0;31mNameError\u001b[0m: name 'vocab_q' is not defined"
     ]
    }
   ],
   "source": [
    "w2i_q = dict((c, i+1) for i, c in enumerate(vocab_q))\n",
    "# w2i_q['__NIL__'] = 0\n",
    "i2w_q = dict((i+1, c) for i, c in enumerate(vocab_q))\n",
    "# i2w[0] = '__NIL__'\n",
    "w2i_a = dict((c, i+1) for i, c in enumerate(vocab_a))\n",
    "i2w_a = dict((i+1, c) for i, c in enumerate(vocab_a))"
   ]
  },
  {
   "cell_type": "code",
   "execution_count": 6,
   "metadata": {
    "collapsed": true
   },
   "outputs": [],
   "source": [
    "# save_pickle(vocab, 'vocab.pickle')"
   ]
  },
  {
   "cell_type": "code",
   "execution_count": 13,
   "metadata": {},
   "outputs": [
    {
     "data": {
      "text/plain": [
       "14"
      ]
     },
     "execution_count": 13,
     "metadata": {},
     "output_type": "execute_result"
    }
   ],
   "source": [
    "data[0]\n",
    "len(w2i)"
   ]
  },
  {
   "cell_type": "code",
   "execution_count": 14,
   "metadata": {},
   "outputs": [],
   "source": [
    "def vectorize(data):\n",
    "    Q, A = [], []\n",
    "    for question, answer in data:\n",
    "        q = [w2i[w] for w in question] + [0] * max(0, max_query_size - len(question)) # padding\n",
    "        \n",
    "        a = np.zeros(len(w2i))\n",
    "#         print(answer)\n",
    "        for ans in answer:\n",
    "            a[w2i[ans]] = 1\n",
    "        \n",
    "        Q.append(q)\n",
    "        A.append(a)\n",
    "    \n",
    "    return np.array(Q), np.array(A)\n",
    "\n",
    "Q, A = vectorize(data[:10000])"
   ]
  },
  {
   "cell_type": "code",
   "execution_count": 9,
   "metadata": {},
   "outputs": [
    {
     "name": "stdout",
     "output_type": "stream",
     "text": [
      "[ 6 11  4  1  0  0] [ 0.  0.  0.  0.  0.  0.  0.  1.  0.  0.  0.  0.  0.  0.]\n",
      "1000 6 1000 14\n"
     ]
    }
   ],
   "source": [
    "print(Q[0], A[0])\n",
    "print(len(Q), len(Q[0]), len(A), len(A[0]))"
   ]
  },
  {
   "cell_type": "code",
   "execution_count": 10,
   "metadata": {
    "collapsed": true
   },
   "outputs": [],
   "source": [
    "save_pickle(Q, 'Q.pickle')\n",
    "save_pickle(A, 'A.pickle')"
   ]
  },
  {
   "cell_type": "markdown",
   "metadata": {},
   "source": [
    "## MLP w/ Tensorflow"
   ]
  },
  {
   "cell_type": "code",
   "execution_count": 17,
   "metadata": {},
   "outputs": [
    {
     "name": "stdout",
     "output_type": "stream",
     "text": [
      "n_classes 14\n"
     ]
    }
   ],
   "source": [
    "# Parameters\n",
    "learning_rate = 0.001\n",
    "training_epochs = 100\n",
    "batch_size = 128\n",
    "display_step = 1\n",
    "\n",
    "# Network Parameters\n",
    "n_hidden_1 = 8 # 1st layer number of neurons\n",
    "n_hidden_2 = 8  # 2nd layer number of neurons\n",
    "# n_hidden_3 = 1024 # 3rd layer number of neurons\n",
    "n_input = max_query_size\n",
    "# n_classes = 10 # MNIST total classes (0-9 digits)\n",
    "n_classes = vocab_size\n",
    "print('n_classes', n_classes)\n",
    "\n",
    "# tf Graph input\n",
    "X = tf.placeholder(\"float\", [None, n_input], name=\"X\")\n",
    "Y = tf.placeholder(\"float\", [None, n_classes], name=\"Y\")\n",
    "\n",
    "# Store layers weight & bias\n",
    "weights = {\n",
    "    'h1': tf.Variable(tf.random_normal([n_input, n_hidden_1])),\n",
    "    'h2': tf.Variable(tf.random_normal([n_hidden_1, n_hidden_2])),\n",
    "#     'h3': tf.Variable(tf.random_normal([n_hidden_2, n_hidden_3])),\n",
    "    'out': tf.Variable(tf.random_normal([n_hidden_2, n_classes]))\n",
    "}\n",
    "biases = {\n",
    "    'b1': tf.Variable(tf.random_normal([n_hidden_1])),\n",
    "    'b2': tf.Variable(tf.random_normal([n_hidden_2])),\n",
    "#     'b3': tf.Variable(tf.random_normal([n_hidden_3])),\n",
    "    'out': tf.Variable(tf.random_normal([n_classes]))\n",
    "}\n",
    "\n",
    "# Create model\n",
    "def multilayer_perceptron(x):\n",
    "    layer_1 = tf.add(tf.matmul(x, weights['h1']), biases['b1'])\n",
    "    layer_2 = tf.add(tf.matmul(layer_1, weights['h2']), biases['b2'])\n",
    "#     layer_3 = tf.add(tf.matmul(layer_2, weights['h3']), biases['b3'])\n",
    "    out_layer = tf.matmul(layer_2, weights['out']) + biases['out']\n",
    "    return out_layer\n",
    "\n",
    "\n",
    "# Construct model\n",
    "logits = multilayer_perceptron(X)\n",
    "\n",
    "\n",
    "# Define loss and optimizer\n",
    "loss_op = tf.reduce_mean(tf.nn.softmax_cross_entropy_with_logits(logits=logits, labels=Y))\n",
    "optimizer = tf.train.AdamOptimizer(learning_rate=learning_rate)\n",
    "train_op = optimizer.minimize(loss_op)\n",
    "# Initializing the variables\n",
    "init = tf.global_variables_initializer()"
   ]
  },
  {
   "cell_type": "code",
   "execution_count": 18,
   "metadata": {},
   "outputs": [
    {
     "name": "stdout",
     "output_type": "stream",
     "text": [
      "Epoch: 0001 cost=343.604357038\n",
      "Epoch: 0002 cost=324.511104039\n",
      "Epoch: 0003 cost=305.859436035\n",
      "Epoch: 0004 cost=288.811285836\n",
      "Epoch: 0005 cost=276.914372035\n",
      "Epoch: 0006 cost=265.154357910\n",
      "Epoch: 0007 cost=254.035014561\n",
      "Epoch: 0008 cost=243.358516148\n",
      "Epoch: 0009 cost=232.834365845\n",
      "Epoch: 0010 cost=222.602735247\n",
      "Epoch: 0011 cost=212.611934117\n",
      "Epoch: 0012 cost=202.866973877\n",
      "Epoch: 0013 cost=193.333971296\n",
      "Epoch: 0014 cost=184.005194528\n",
      "Epoch: 0015 cost=174.871239798\n",
      "Epoch: 0016 cost=165.918215070\n",
      "Epoch: 0017 cost=157.129418509\n",
      "Epoch: 0018 cost=148.492203849\n",
      "Epoch: 0019 cost=139.993629456\n",
      "Epoch: 0020 cost=131.618959699\n",
      "Epoch: 0021 cost=123.354365758\n",
      "Epoch: 0022 cost=115.186367580\n",
      "Epoch: 0023 cost=107.100591387\n",
      "Epoch: 0024 cost=99.082859584\n",
      "Epoch: 0025 cost=91.118700300\n",
      "Epoch: 0026 cost=83.193087987\n",
      "Epoch: 0027 cost=75.290742602\n",
      "Epoch: 0028 cost=67.395771027\n",
      "Epoch: 0029 cost=59.491915567\n",
      "Epoch: 0030 cost=51.647338867\n",
      "Epoch: 0031 cost=45.775518145\n",
      "Epoch: 0032 cost=41.105758122\n",
      "Epoch: 0033 cost=36.880453655\n",
      "Epoch: 0034 cost=33.779488427\n",
      "Epoch: 0035 cost=31.710848400\n",
      "Epoch: 0036 cost=29.511040824\n",
      "Epoch: 0037 cost=27.494710105\n",
      "Epoch: 0038 cost=25.520193372\n",
      "Epoch: 0039 cost=23.603291920\n",
      "Epoch: 0040 cost=21.800732340\n",
      "Epoch: 0041 cost=20.326465470\n",
      "Epoch: 0042 cost=18.893562044\n",
      "Epoch: 0043 cost=17.479256085\n",
      "Epoch: 0044 cost=16.079583985\n",
      "Epoch: 0045 cost=14.698040145\n",
      "Epoch: 0046 cost=13.325123242\n",
      "Epoch: 0047 cost=11.956597464\n",
      "Epoch: 0048 cost=10.598574162\n",
      "Epoch: 0049 cost=9.285575662\n",
      "Epoch: 0050 cost=8.135049207\n",
      "Epoch: 0051 cost=7.184611457\n",
      "Epoch: 0052 cost=6.268182550\n",
      "Epoch: 0053 cost=5.324939013\n",
      "Epoch: 0054 cost=4.386067322\n",
      "Epoch: 0055 cost=3.592918430\n",
      "Epoch: 0056 cost=3.353957789\n",
      "Epoch: 0057 cost=3.290303741\n",
      "Epoch: 0058 cost=3.216144391\n",
      "Epoch: 0059 cost=3.178711857\n",
      "Epoch: 0060 cost=3.149887051\n",
      "Epoch: 0061 cost=3.124487230\n",
      "Epoch: 0062 cost=3.100452525\n",
      "Epoch: 0063 cost=3.077570098\n",
      "Epoch: 0064 cost=3.054278033\n",
      "Epoch: 0065 cost=3.030795744\n",
      "Epoch: 0066 cost=3.007046665\n",
      "Epoch: 0067 cost=2.983641624\n",
      "Epoch: 0068 cost=2.960553442\n",
      "Epoch: 0069 cost=2.937525443\n",
      "Epoch: 0070 cost=2.914409331\n",
      "Epoch: 0071 cost=2.891368321\n",
      "Epoch: 0072 cost=2.868427856\n",
      "Epoch: 0073 cost=2.845617635\n",
      "Epoch: 0074 cost=2.822885207\n",
      "Epoch: 0075 cost=2.800267696\n",
      "Epoch: 0076 cost=2.777753592\n",
      "Epoch: 0077 cost=2.755373716\n",
      "Epoch: 0078 cost=2.733123984\n",
      "Epoch: 0079 cost=2.711031573\n",
      "Epoch: 0080 cost=2.689093556\n",
      "Epoch: 0081 cost=2.667329414\n",
      "Epoch: 0082 cost=2.645750318\n",
      "Epoch: 0083 cost=2.624371392\n",
      "Epoch: 0084 cost=2.603209121\n",
      "Epoch: 0085 cost=2.582276583\n",
      "Epoch: 0086 cost=2.561590910\n",
      "Epoch: 0087 cost=2.541169575\n",
      "Epoch: 0088 cost=2.521027974\n",
      "Epoch: 0089 cost=2.501188619\n",
      "Epoch: 0090 cost=2.481664794\n",
      "Epoch: 0091 cost=2.462477786\n",
      "Epoch: 0092 cost=2.443649088\n",
      "Epoch: 0093 cost=2.425194059\n",
      "Epoch: 0094 cost=2.407135095\n",
      "Epoch: 0095 cost=2.389489838\n",
      "Epoch: 0096 cost=2.372276136\n",
      "Epoch: 0097 cost=2.355513028\n",
      "Epoch: 0098 cost=2.339218293\n",
      "Epoch: 0099 cost=2.323405589\n",
      "Epoch: 0100 cost=2.308093122\n",
      "Optimization Finished!\n",
      "Accuracy: 0.17\n"
     ]
    }
   ],
   "source": [
    "with tf.Session() as sess:\n",
    "    sess.run(init)\n",
    "    n_train = len(Q)\n",
    "    # Training cycle\n",
    "    for epoch in range(training_epochs):\n",
    "        avg_cost = 0.\n",
    "        total_batch = int(n_train/batch_size)\n",
    "        # Loop over all batches\n",
    "#         for i in range(total_batch):\n",
    "        for start in range(0, n_train, batch_size):\n",
    "            end = start + batch_size\n",
    "#             batch_x, batch_y = mnist.train.next_batch(batch_size)\n",
    "            batch_x, batch_y = Q[start:end], A[start:end]\n",
    "    \n",
    "            # Run optimization op (backprop) and cost op (to get loss value)\n",
    "            _, c = sess.run([train_op, loss_op], feed_dict={X: batch_x, Y: batch_y})\n",
    "            \n",
    "            # Compute average loss\n",
    "            avg_cost += c / total_batch\n",
    "        # Display logs per epoch step\n",
    "        if epoch % display_step == 0:\n",
    "            print(\"Epoch:\", '%04d' % (epoch+1), \"cost={:.9f}\".format(avg_cost))\n",
    "    print(\"Optimization Finished!\")\n",
    "\n",
    "    # Test model\n",
    "    pred = tf.nn.softmax(logits)  # Apply softmax to logits\n",
    "    correct_prediction = tf.equal(tf.argmax(pred, 1), tf.argmax(Y, 1))\n",
    "    # Calculate accuracy\n",
    "    accuracy = tf.reduce_mean(tf.cast(correct_prediction, \"float\"))\n",
    "    print(\"Accuracy:\", accuracy.eval({X: Q[:100], Y: A[:100]}))"
   ]
  },
  {
   "cell_type": "code",
   "execution_count": null,
   "metadata": {
    "collapsed": true
   },
   "outputs": [],
   "source": []
  },
  {
   "cell_type": "code",
   "execution_count": null,
   "metadata": {
    "collapsed": true
   },
   "outputs": [],
   "source": []
  }
 ],
 "metadata": {
  "kernelspec": {
   "display_name": "Python 3",
   "language": "python",
   "name": "python3"
  },
  "language_info": {
   "codemirror_mode": {
    "name": "ipython",
    "version": 3
   },
   "file_extension": ".py",
   "mimetype": "text/x-python",
   "name": "python",
   "nbconvert_exporter": "python",
   "pygments_lexer": "ipython3",
   "version": "3.6.1"
  }
 },
 "nbformat": 4,
 "nbformat_minor": 2
}
