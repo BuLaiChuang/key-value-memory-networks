{
 "cells": [
  {
   "cell_type": "code",
   "execution_count": 18,
   "metadata": {
    "collapsed": true
   },
   "outputs": [],
   "source": [
    "import tensorflow as tf\n",
    "import numpy as np\n",
    "from nltk.tokenize import word_tokenize\n",
    "from itertools import chain\n",
    "import functools\n",
    "import pickle"
   ]
  },
  {
   "cell_type": "code",
   "execution_count": 19,
   "metadata": {
    "collapsed": true
   },
   "outputs": [],
   "source": [
    "def save_pickle(d, path):\n",
    "    with open(path, mode='wb') as f:\n",
    "        pickle.dump(d, f)\n",
    "def load_pickle(path):\n",
    "    with open(path, mode='rb') as f:\n",
    "        return pickle.load(f)"
   ]
  },
  {
   "cell_type": "code",
   "execution_count": 20,
   "metadata": {
    "collapsed": true
   },
   "outputs": [],
   "source": [
    "with open('data/movie_dialog_dataset/task1_qa/task1_qa_pipe_train.txt', 'r') as f:\n",
    "    lines = f.readlines()\n",
    "    data = []\n",
    "    for l in lines:\n",
    "        l = l.rstrip()\n",
    "        turn, left = l.split(' ', 1)\n",
    "        q, a = left.split('\\t', 1)\n",
    "        data.append((word_tokenize(q), a.split('|')))"
   ]
  },
  {
   "cell_type": "code",
   "execution_count": 24,
   "metadata": {},
   "outputs": [
    {
     "name": "stdout",
     "output_type": "stream",
     "text": [
      "65737\n"
     ]
    }
   ],
   "source": [
    "max_query_size = max(map(len, chain.from_iterable(q for q, _ in data)))\n",
    "vocab = sorted(functools.reduce(lambda x, y: x | y, (set(q + a) for q, a in data)))\n",
    "print(len(vocab))\n",
    "vocab_size = len(vocab) + 1 # +1 for nil word\n",
    "w2i = dict((c, i+1) for i, c in enumerate(vocab))\n",
    "w2i['__NIL__'] = 0\n",
    "i2w = dict((i+1, c) for i, c in enumerate(vocab))\n",
    "i2w[0] = '__NIL__'"
   ]
  },
  {
   "cell_type": "code",
   "execution_count": 25,
   "metadata": {},
   "outputs": [],
   "source": [
    "save_pickle(vocab, 'vocab.pickle')"
   ]
  },
  {
   "cell_type": "code",
   "execution_count": 23,
   "metadata": {
    "collapsed": true
   },
   "outputs": [],
   "source": [
    "save_pickle(data, 'data.pickle')"
   ]
  },
  {
   "cell_type": "code",
   "execution_count": 8,
   "metadata": {},
   "outputs": [
    {
     "data": {
      "text/plain": [
       "(['what', 'movies', 'are', 'about', 'ginger', 'rogers', '?'],\n",
       " ['The Barkleys of Broadway', 'Kitty Foyle', 'Top Hat'])"
      ]
     },
     "execution_count": 8,
     "metadata": {},
     "output_type": "execute_result"
    }
   ],
   "source": [
    "data[0]"
   ]
  },
  {
   "cell_type": "code",
   "execution_count": 26,
   "metadata": {},
   "outputs": [],
   "source": [
    "def vectorize(data):\n",
    "    Q, A = [], []\n",
    "    for question, answer in data:\n",
    "        q = [w2i[w] for w in question] + [0] * max(0, max_query_size - len(question)) # padding\n",
    "        \n",
    "        a = np.zeros(len(w2i))\n",
    "#         print(answer)\n",
    "        for ans in answer:\n",
    "            a[w2i[ans]] = 1\n",
    "        \n",
    "        Q.append(q)\n",
    "        A.append(a)\n",
    "    \n",
    "    return np.array(Q), np.array(A)\n",
    "\n",
    "Q, A = vectorize(data[:10000])"
   ]
  },
  {
   "cell_type": "code",
   "execution_count": 27,
   "metadata": {},
   "outputs": [
    {
     "data": {
      "text/plain": [
       "array([65461, 62795, 58037, 57657, 60422, 63960,   481,     0,     0,\n",
       "           0,     0,     0,     0,     0,     0,     0,     0,     0,\n",
       "           0,     0,     0,     0,     0])"
      ]
     },
     "execution_count": 27,
     "metadata": {},
     "output_type": "execute_result"
    }
   ],
   "source": [
    "Q[0]"
   ]
  },
  {
   "cell_type": "code",
   "execution_count": null,
   "metadata": {
    "collapsed": true
   },
   "outputs": [],
   "source": [
    "save_pickle(Q, 'Q.pickle')\n",
    "save_pickle(A, 'A.pickle')"
   ]
  },
  {
   "cell_type": "markdown",
   "metadata": {},
   "source": [
    "## MLP w/ Tensorflow"
   ]
  },
  {
   "cell_type": "code",
   "execution_count": 12,
   "metadata": {
    "collapsed": true
   },
   "outputs": [],
   "source": [
    "# Parameters\n",
    "learning_rate = 0.001\n",
    "training_epochs = 15\n",
    "batch_size = 128\n",
    "display_step = 1\n",
    "\n",
    "# Network Parameters\n",
    "n_hidden_1 = 256 # 1st layer number of neurons\n",
    "n_hidden_2 = 256 # 2nd layer number of neurons\n",
    "# n_input = 784 # MNIST data input (img shape: 28*28)\n",
    "n_input = max_query_size\n",
    "# n_classes = 10 # MNIST total classes (0-9 digits)\n",
    "n_classes = vocab_size\n",
    "\n",
    "# tf Graph input\n",
    "X = tf.placeholder(\"float\", [None, n_input], name=\"X\")\n",
    "Y = tf.placeholder(\"float\", [None, n_classes], name=\"Y\")\n",
    "\n",
    "# Store layers weight & bias\n",
    "weights = {\n",
    "    'h1': tf.Variable(tf.random_normal([n_input, n_hidden_1])),\n",
    "    'h2': tf.Variable(tf.random_normal([n_hidden_1, n_hidden_2])),\n",
    "    'out': tf.Variable(tf.random_normal([n_hidden_2, n_classes]))\n",
    "}\n",
    "biases = {\n",
    "    'b1': tf.Variable(tf.random_normal([n_hidden_1])),\n",
    "    'b2': tf.Variable(tf.random_normal([n_hidden_2])),\n",
    "    'out': tf.Variable(tf.random_normal([n_classes]))\n",
    "}\n",
    "\n",
    "# Create model\n",
    "def multilayer_perceptron(x):\n",
    "    # Hidden fully connected layer with 256 neurons\n",
    "    layer_1 = tf.add(tf.matmul(x, weights['h1']), biases['b1'])\n",
    "    # Hidden fully connected layer with 256 neurons\n",
    "    layer_2 = tf.add(tf.matmul(layer_1, weights['h2']), biases['b2'])\n",
    "    # Output fully connected layer with a neuron for each class\n",
    "    out_layer = tf.matmul(layer_2, weights['out']) + biases['out']\n",
    "    return out_layer\n",
    "\n",
    "\n",
    "# Construct model\n",
    "logits = multilayer_perceptron(X)\n",
    "\n",
    "\n",
    "# Define loss and optimizer\n",
    "loss_op = tf.reduce_mean(tf.nn.softmax_cross_entropy_with_logits(logits=logits, labels=Y))\n",
    "optimizer = tf.train.AdamOptimizer(learning_rate=learning_rate)\n",
    "train_op = optimizer.minimize(loss_op)\n",
    "# Initializing the variables\n",
    "init = tf.global_variables_initializer()"
   ]
  },
  {
   "cell_type": "code",
   "execution_count": 13,
   "metadata": {},
   "outputs": [
    {
     "name": "stdout",
     "output_type": "stream",
     "text": [
      "1000 1000\n",
      "Tensor(\"X:0\", shape=(?, 23), dtype=float32) Tensor(\"Y:0\", shape=(?, 65738), dtype=float32)\n"
     ]
    }
   ],
   "source": [
    "print(len(Q), len(A))\n",
    "print(X, Y)"
   ]
  },
  {
   "cell_type": "code",
   "execution_count": 15,
   "metadata": {},
   "outputs": [
    {
     "name": "stdout",
     "output_type": "stream",
     "text": [
      "Epoch: 0001 cost=725916918.857142806\n",
      "Epoch: 0002 cost=644267483.428571463\n",
      "Epoch: 0003 cost=582855012.571428537\n",
      "Epoch: 0004 cost=531284374.857142806\n",
      "Epoch: 0005 cost=488363318.857142925\n",
      "Epoch: 0006 cost=450335094.857142866\n",
      "Epoch: 0007 cost=417231867.428571463\n",
      "Epoch: 0008 cost=388206486.857142866\n",
      "Epoch: 0009 cost=362930491.428571463\n",
      "Epoch: 0010 cost=340996955.428571463\n",
      "Epoch: 0011 cost=322497364.571428597\n",
      "Epoch: 0012 cost=307139069.714285731\n",
      "Epoch: 0013 cost=294625241.142857134\n",
      "Epoch: 0014 cost=284197760.000000000\n",
      "Epoch: 0015 cost=275826070.857142866\n",
      "Optimization Finished!\n"
     ]
    }
   ],
   "source": [
    "with tf.Session() as sess:\n",
    "    sess.run(init)\n",
    "    n_train = len(Q)\n",
    "    # Training cycle\n",
    "    for epoch in range(training_epochs):\n",
    "        avg_cost = 0.\n",
    "        total_batch = int(n_train/batch_size)\n",
    "        # Loop over all batches\n",
    "#         for i in range(total_batch):\n",
    "        for start in range(0, n_train, batch_size):\n",
    "            end = start + batch_size\n",
    "#             batch_x, batch_y = mnist.train.next_batch(batch_size)\n",
    "            batch_x, batch_y = Q[start:end], A[start:end]\n",
    "    \n",
    "            # Run optimization op (backprop) and cost op (to get loss value)\n",
    "            _, c = sess.run([train_op, loss_op], feed_dict={X: batch_x, Y: batch_y})\n",
    "            \n",
    "            # Compute average loss\n",
    "            avg_cost += c / total_batch\n",
    "        # Display logs per epoch step\n",
    "        if epoch % display_step == 0:\n",
    "            print(\"Epoch:\", '%04d' % (epoch+1), \"cost={:.9f}\".format(avg_cost))\n",
    "    print(\"Optimization Finished!\")\n",
    "\n",
    "    # Test model\n",
    "    pred = tf.nn.softmax(logits)  # Apply softmax to logits\n",
    "    correct_prediction = tf.equal(tf.argmax(pred, 1), tf.argmax(Y, 1))\n",
    "    # Calculate accuracy\n",
    "    accuracy = tf.reduce_mean(tf.cast(correct_prediction, \"float\"))\n",
    "#     print(\"Accuracy:\", accuracy.eval({X: mnist.test.images, Y: mnist.test.labels}))"
   ]
  },
  {
   "cell_type": "code",
   "execution_count": null,
   "metadata": {
    "collapsed": true
   },
   "outputs": [],
   "source": [
    "start=0\n",
    "end=3\n",
    "batch_x, batch_y = Q[start:end], A[start:end]\n",
    "print(batch_y.shape)"
   ]
  },
  {
   "cell_type": "code",
   "execution_count": null,
   "metadata": {
    "collapsed": true
   },
   "outputs": [],
   "source": []
  }
 ],
 "metadata": {
  "kernelspec": {
   "display_name": "Python 3",
   "language": "python",
   "name": "python3"
  },
  "language_info": {
   "codemirror_mode": {
    "name": "ipython",
    "version": 3
   },
   "file_extension": ".py",
   "mimetype": "text/x-python",
   "name": "python",
   "nbconvert_exporter": "python",
   "pygments_lexer": "ipython3",
   "version": "3.6.1"
  }
 },
 "nbformat": 4,
 "nbformat_minor": 2
}
